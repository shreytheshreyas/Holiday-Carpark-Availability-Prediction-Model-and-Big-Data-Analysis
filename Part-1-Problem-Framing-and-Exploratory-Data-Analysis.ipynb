{
 "cells": [
  {
   "cell_type": "markdown",
   "metadata": {
    "id": "WsFbxe7F-fgI"
   },
   "source": [
    "## 1. Data Cleaning & Exploring the Data \n"
   ]
  },
  {
   "cell_type": "markdown",
   "metadata": {
    "id": "snqGVEIe-4iD"
   },
   "source": [
    "After Reviewing the Documentation of the dataset, the vehicle labels are divide into three categories as follows:\n",
    "\n",
    "*   “C” – Car\n",
    "*   “Y”- Motorcycle\n",
    "*   “H” – Heavy Vehicle\n",
    "\n"
   ]
  },
  {
   "cell_type": "markdown",
   "metadata": {
    "id": "g6bmfiXk_mmG"
   },
   "source": [
    "Making a sample API call to the test dataset for the date 1st January 2022 at 12PM"
   ]
  },
  {
   "cell_type": "code",
   "execution_count": 4,
   "metadata": {
    "colab": {
     "base_uri": "https://localhost:8080/",
     "height": 241
    },
    "id": "6EfUBC41955k",
    "outputId": "e177b359-a9ba-4269-85cb-d53068f8e0f7"
   },
   "outputs": [
    {
     "name": "stdout",
     "output_type": "stream",
     "text": [
      "https://api.data.gov.sg/v1/transport/carpark-availability?date_time=2022-01-01T12%3A00%3A00\n",
      "2022-01-01T11:59:27+08:00\n"
     ]
    },
    {
     "data": {
      "text/html": [
       "<div>\n",
       "<style scoped>\n",
       "    .dataframe tbody tr th:only-of-type {\n",
       "        vertical-align: middle;\n",
       "    }\n",
       "\n",
       "    .dataframe tbody tr th {\n",
       "        vertical-align: top;\n",
       "    }\n",
       "\n",
       "    .dataframe thead th {\n",
       "        text-align: right;\n",
       "    }\n",
       "</style>\n",
       "<table border=\"1\" class=\"dataframe\">\n",
       "  <thead>\n",
       "    <tr style=\"text-align: right;\">\n",
       "      <th></th>\n",
       "      <th>carpark_number</th>\n",
       "      <th>update_datetime</th>\n",
       "      <th>total_lots</th>\n",
       "      <th>lot_type</th>\n",
       "      <th>lots_available</th>\n",
       "    </tr>\n",
       "  </thead>\n",
       "  <tbody>\n",
       "    <tr>\n",
       "      <th>0</th>\n",
       "      <td>HE12</td>\n",
       "      <td>2022-01-01T07:00:57</td>\n",
       "      <td>105</td>\n",
       "      <td>C</td>\n",
       "      <td>0</td>\n",
       "    </tr>\n",
       "    <tr>\n",
       "      <th>1</th>\n",
       "      <td>HLM</td>\n",
       "      <td>2022-01-01T11:49:34</td>\n",
       "      <td>583</td>\n",
       "      <td>C</td>\n",
       "      <td>201</td>\n",
       "    </tr>\n",
       "    <tr>\n",
       "      <th>2</th>\n",
       "      <td>RHM</td>\n",
       "      <td>2022-01-01T07:00:58</td>\n",
       "      <td>329</td>\n",
       "      <td>C</td>\n",
       "      <td>114</td>\n",
       "    </tr>\n",
       "    <tr>\n",
       "      <th>3</th>\n",
       "      <td>BM29</td>\n",
       "      <td>2022-01-01T05:30:33</td>\n",
       "      <td>97</td>\n",
       "      <td>C</td>\n",
       "      <td>88</td>\n",
       "    </tr>\n",
       "    <tr>\n",
       "      <th>4</th>\n",
       "      <td>Q81</td>\n",
       "      <td>2022-01-01T11:49:37</td>\n",
       "      <td>96</td>\n",
       "      <td>C</td>\n",
       "      <td>0</td>\n",
       "    </tr>\n",
       "  </tbody>\n",
       "</table>\n",
       "</div>"
      ],
      "text/plain": [
       "  carpark_number      update_datetime total_lots lot_type lots_available\n",
       "0           HE12  2022-01-01T07:00:57        105        C              0\n",
       "1            HLM  2022-01-01T11:49:34        583        C            201\n",
       "2            RHM  2022-01-01T07:00:58        329        C            114\n",
       "3           BM29  2022-01-01T05:30:33         97        C             88\n",
       "4            Q81  2022-01-01T11:49:37         96        C              0"
      ]
     },
     "execution_count": 4,
     "metadata": {},
     "output_type": "execute_result"
    }
   ],
   "source": [
    "import requests\n",
    "import json\n",
    "import pandas as pd\n",
    "\n",
    "# Change these values for different dates\n",
    "year = \"2022\"\n",
    "month = \"1\"\n",
    "day = \"1\"\n",
    "hour = \"12\"\n",
    "minute = \"0\"\n",
    "second = \"0\"\n",
    "\n",
    "site = f'https://api.data.gov.sg/v1/transport/carpark-availability?date_time={year}-{month.zfill(2)}-{day.zfill(2)}T{hour.zfill(2)}%3A{minute.zfill(2)}%3A{second.zfill(2)}'\n",
    "print(site)\n",
    "response_API = requests.get(site)\n",
    "data = response_API.text\n",
    "data = json.loads(data)\n",
    "timestamp = data[\"items\"][0][\"timestamp\"]\n",
    "print(timestamp)\n",
    "\n",
    "data = data[\"items\"][0][\"carpark_data\"]\n",
    "with open(\"EE4211data.json\", 'w') as fp:\n",
    "    json.dump(data, fp)\n",
    "df = pd.read_json(\"EE4211data.json\")\n",
    "for heading in (\"total_lots\",\"lot_type\",\"lots_available\"):\n",
    "    df[heading] = df[\"carpark_info\"].apply(lambda x: x[0][heading])\n",
    "df = df.drop([\"carpark_info\"], axis=1)\n",
    "df.head()"
   ]
  },
  {
   "cell_type": "markdown",
   "metadata": {
    "id": "5Qnk6jqSeTfR"
   },
   "source": [
    "Let us now make an API call one second later at 12:00:01 on the same day i.e. 1/1/2022"
   ]
  },
  {
   "cell_type": "code",
   "execution_count": 5,
   "metadata": {
    "colab": {
     "base_uri": "https://localhost:8080/",
     "height": 241
    },
    "id": "ksJRbbJXQPvN",
    "outputId": "da4a2efd-4365-4a23-8e16-118adf5449c1"
   },
   "outputs": [
    {
     "name": "stdout",
     "output_type": "stream",
     "text": [
      "https://api.data.gov.sg/v1/transport/carpark-availability?date_time=2022-01-01T12%3A00%3A01\n",
      "2022-01-01T11:59:27+08:00\n"
     ]
    },
    {
     "data": {
      "text/html": [
       "<div>\n",
       "<style scoped>\n",
       "    .dataframe tbody tr th:only-of-type {\n",
       "        vertical-align: middle;\n",
       "    }\n",
       "\n",
       "    .dataframe tbody tr th {\n",
       "        vertical-align: top;\n",
       "    }\n",
       "\n",
       "    .dataframe thead th {\n",
       "        text-align: right;\n",
       "    }\n",
       "</style>\n",
       "<table border=\"1\" class=\"dataframe\">\n",
       "  <thead>\n",
       "    <tr style=\"text-align: right;\">\n",
       "      <th></th>\n",
       "      <th>carpark_number</th>\n",
       "      <th>update_datetime</th>\n",
       "      <th>total_lots</th>\n",
       "      <th>lot_type</th>\n",
       "      <th>lots_available</th>\n",
       "    </tr>\n",
       "  </thead>\n",
       "  <tbody>\n",
       "    <tr>\n",
       "      <th>0</th>\n",
       "      <td>HE12</td>\n",
       "      <td>2022-01-01T07:00:57</td>\n",
       "      <td>105</td>\n",
       "      <td>C</td>\n",
       "      <td>0</td>\n",
       "    </tr>\n",
       "    <tr>\n",
       "      <th>1</th>\n",
       "      <td>HLM</td>\n",
       "      <td>2022-01-01T11:49:34</td>\n",
       "      <td>583</td>\n",
       "      <td>C</td>\n",
       "      <td>201</td>\n",
       "    </tr>\n",
       "    <tr>\n",
       "      <th>2</th>\n",
       "      <td>RHM</td>\n",
       "      <td>2022-01-01T07:00:58</td>\n",
       "      <td>329</td>\n",
       "      <td>C</td>\n",
       "      <td>114</td>\n",
       "    </tr>\n",
       "    <tr>\n",
       "      <th>3</th>\n",
       "      <td>BM29</td>\n",
       "      <td>2022-01-01T05:30:33</td>\n",
       "      <td>97</td>\n",
       "      <td>C</td>\n",
       "      <td>88</td>\n",
       "    </tr>\n",
       "    <tr>\n",
       "      <th>4</th>\n",
       "      <td>Q81</td>\n",
       "      <td>2022-01-01T11:49:37</td>\n",
       "      <td>96</td>\n",
       "      <td>C</td>\n",
       "      <td>0</td>\n",
       "    </tr>\n",
       "  </tbody>\n",
       "</table>\n",
       "</div>"
      ],
      "text/plain": [
       "  carpark_number      update_datetime total_lots lot_type lots_available\n",
       "0           HE12  2022-01-01T07:00:57        105        C              0\n",
       "1            HLM  2022-01-01T11:49:34        583        C            201\n",
       "2            RHM  2022-01-01T07:00:58        329        C            114\n",
       "3           BM29  2022-01-01T05:30:33         97        C             88\n",
       "4            Q81  2022-01-01T11:49:37         96        C              0"
      ]
     },
     "execution_count": 5,
     "metadata": {},
     "output_type": "execute_result"
    }
   ],
   "source": [
    "# Change these values for different dates\n",
    "year = \"2022\"\n",
    "month = \"1\"\n",
    "day = \"1\"\n",
    "hour = \"12\"\n",
    "minute = \"0\"\n",
    "second = \"1\"\n",
    "\n",
    "site = f'https://api.data.gov.sg/v1/transport/carpark-availability?date_time={year}-{month.zfill(2)}-{day.zfill(2)}T{hour.zfill(2)}%3A{minute.zfill(2)}%3A{second.zfill(2)}'\n",
    "print(site)\n",
    "response_API = requests.get(site)\n",
    "data = response_API.text\n",
    "data = json.loads(data)\n",
    "timestamp = data[\"items\"][0][\"timestamp\"]\n",
    "print(timestamp)\n",
    "\n",
    "data = data[\"items\"][0][\"carpark_data\"]\n",
    "with open(\"EE4211data.json\", 'w') as fp:\n",
    "    json.dump(data, fp)\n",
    "df = pd.read_json(\"EE4211data.json\")\n",
    "for heading in (\"total_lots\",\"lot_type\",\"lots_available\"):\n",
    "    df[heading] = df[\"carpark_info\"].apply(lambda x: x[0][heading])\n",
    "df = df.drop([\"carpark_info\"], axis=1)\n",
    "df.head()"
   ]
  },
  {
   "cell_type": "markdown",
   "metadata": {
    "id": "GKn-Dro2bIwm"
   },
   "source": [
    "As we can observe, the carpark dataset does not update every second based on the head of the data. The next step would be to check if the carpark dataset updates within a minute. If it does not update within a minute, we have confirmation it does not update in a second either. So we define the API call as a function in order to check the above."
   ]
  },
  {
   "cell_type": "code",
   "execution_count": 6,
   "metadata": {
    "id": "uW1BQ3qKbxlG"
   },
   "outputs": [],
   "source": [
    "def APICall(year, month, day, hour, minute, second):\n",
    "  site = f'https://api.data.gov.sg/v1/transport/carpark-availability?date_time={year}-{month.zfill(2)}-{day.zfill(2)}T{hour.zfill(2)}%3A{minute.zfill(2)}%3A{second.zfill(2)}'\n",
    "  print(site)\n",
    "  response_API = requests.get(site)\n",
    "  data = response_API.text\n",
    "  data = json.loads(data)\n",
    "  timestamp = data[\"items\"][0][\"timestamp\"]\n",
    "  print(timestamp)\n",
    "\n",
    "  data = data[\"items\"][0][\"carpark_data\"]\n",
    "  with open(\"EE4211data.json\", 'w') as fp:\n",
    "      json.dump(data, fp)\n",
    "  df = pd.read_json(\"EE4211data.json\")\n",
    "  for heading in (\"total_lots\",\"lot_type\",\"lots_available\"):\n",
    "      df[heading] = df[\"carpark_info\"].apply(lambda x: x[0][heading])\n",
    "  df = df.drop([\"carpark_info\"], axis=1)\n",
    "  return df"
   ]
  },
  {
   "cell_type": "markdown",
   "metadata": {
    "id": "jsaSz-YNb2qp"
   },
   "source": [
    "Now we define a function to check the updates that take place within a minute. To do so we select 10 second intervals to check the number of updates within a minute by comparing the update_time of the initial data extracted and the new data obtained every 10 seconds. We choose 10 seconds as a 1 second interval would be too slow to test. Conversely, we choose 10 seconds over higher time intervals as a single error in fetching the data from the API call would increase the chances of missing an 'update.'"
   ]
  },
  {
   "cell_type": "code",
   "execution_count": null,
   "metadata": {
    "colab": {
     "base_uri": "https://localhost:8080/"
    },
    "id": "KT4ADLVzcqWm",
    "outputId": "f24d5e50-f9dd-4bee-c95b-d76cf1f6ec13"
   },
   "outputs": [
    {
     "name": "stdout",
     "output_type": "stream",
     "text": [
      "https://api.data.gov.sg/v1/transport/carpark-availability?date_time=2022-01-01T12%3A00%3A00\n",
      "2022-01-01T11:59:27+08:00\n",
      "https://api.data.gov.sg/v1/transport/carpark-availability?date_time=2022-01-01T12%3A00%3A10\n",
      "2022-01-01T11:59:27+08:00\n",
      "no_updates\n",
      "https://api.data.gov.sg/v1/transport/carpark-availability?date_time=2022-01-01T12%3A00%3A20\n",
      "2022-01-01T11:59:27+08:00\n",
      "no_updates\n",
      "https://api.data.gov.sg/v1/transport/carpark-availability?date_time=2022-01-01T12%3A00%3A30\n",
      "2022-01-01T12:00:27+08:00\n",
      "no_updates\n",
      "https://api.data.gov.sg/v1/transport/carpark-availability?date_time=2022-01-01T12%3A00%3A40\n",
      "https://api.data.gov.sg/v1/transport/carpark-availability?date_time=2022-01-01T12%3A00%3A50\n",
      "2022-01-01T12:00:27+08:00\n",
      "no_updates\n",
      "https://api.data.gov.sg/v1/transport/carpark-availability?date_time=2022-01-01T12%3A00%3A60\n",
      "The number of updates that took place in a minute is 0\n"
     ]
    }
   ],
   "source": [
    "# The initial data we extract from 1/1/2022 12:00:00\n",
    "initial_df = APICall(\"2022\", \"1\", \"1\", \"12\",\"0\", \"0\")\n",
    "\n",
    "# The function checkSecondUpdates compares each new update every 10 seconds\n",
    "# to the updates that take place later on every 10 seconds\n",
    "# It returns no_update if no updates take place in a 10 second interval\n",
    "# Returns the update number if it takes place and finally returns the total\n",
    "# number of updates that took place\n",
    "def checkSecondUpdates(initial_df):\n",
    "  updates_per_min = 0\n",
    "  for i in range(10, 61, 10):\n",
    "    try:\n",
    "      # first check takes place at 12:00:10\n",
    "      new_df = APICall(\"2022\", \"1\", \"1\", \"12\",\"0\",str(i))\n",
    "      if(initial_df['update_datetime'].equals(new_df['update_datetime'])):\n",
    "        print('no_updates')\n",
    "      else:\n",
    "        updates_per_min = updates_per_min + 1\n",
    "        print(i)\n",
    "    except:\n",
    "      continue\n",
    "    initial_df = new_df\n",
    "  print(\"The number of updates that took place in a minute is\", updates_per_min)\n",
    "\n",
    "checkSecondUpdates(initial_df)"
   ]
  },
  {
   "cell_type": "markdown",
   "metadata": {
    "id": "PJ0f4Z6Xefag"
   },
   "source": [
    "We can see that the data does not update within a minute (therefore does not update in a second) and so we need to check if the data updates each minute or in a specified set of minutes. The documentation for this LTA dataset specifies that updates take place every minute, so we need to verify if this is indeed the case. So we modify the function checkSecondUpdates to check updates every minute and we will see the number of updates that take place every minute in a fixed time interval of 5 minutes over half an hour. By the documentation, we should expect 5 such updates to take place every 5 minutes if every data call is sucessful. If not, we should expect an update for each sucessful API call."
   ]
  },
  {
   "cell_type": "code",
   "execution_count": 7,
   "metadata": {
    "colab": {
     "base_uri": "https://localhost:8080/"
    },
    "id": "H2NcHTeSfoYv",
    "outputId": "f97e0dc9-8d4f-4e81-942c-53474a2c9b93"
   },
   "outputs": [
    {
     "name": "stdout",
     "output_type": "stream",
     "text": [
      "https://api.data.gov.sg/v1/transport/carpark-availability?date_time=2022-01-01T12%3A00%3A00\n",
      "2022-01-01T11:59:27+08:00\n",
      "https://api.data.gov.sg/v1/transport/carpark-availability?date_time=2022-01-01T12%3A05%3A00\n",
      "2022-01-01T12:04:27+08:00\n",
      "no_updates\n",
      "https://api.data.gov.sg/v1/transport/carpark-availability?date_time=2022-01-01T12%3A10%3A00\n",
      "2022-01-01T12:09:27+08:00\n",
      "no_updates\n",
      "https://api.data.gov.sg/v1/transport/carpark-availability?date_time=2022-01-01T12%3A15%3A00\n",
      "2022-01-01T12:14:27+08:00\n",
      "no_updates\n",
      "https://api.data.gov.sg/v1/transport/carpark-availability?date_time=2022-01-01T12%3A20%3A00\n",
      "2022-01-01T12:19:27+08:00\n",
      "no_updates\n",
      "https://api.data.gov.sg/v1/transport/carpark-availability?date_time=2022-01-01T12%3A25%3A00\n",
      "2022-01-01T12:24:27+08:00\n",
      "25\n",
      "https://api.data.gov.sg/v1/transport/carpark-availability?date_time=2022-01-01T12%3A30%3A00\n",
      "2022-01-01T12:29:27+08:00\n",
      "no_updates\n",
      "The number of updates that took place in 30 minutes is 1\n"
     ]
    }
   ],
   "source": [
    "# The initial data we extract from 1/1/2022 12:00:00\n",
    "initial_df = APICall(\"2022\", \"1\", \"1\", \"12\",\"0\", \"0\")\n",
    "\n",
    "def checkMinuteUpdates(initial_df):\n",
    "  minute_updates = 0\n",
    "  for i in range(5, 31, 5):\n",
    "    try:\n",
    "      # first check takes place at 12:01:00\n",
    "      new_df = APICall(\"2022\", \"1\", \"1\", \"12\",str(i),\"0\")\n",
    "      if(initial_df['update_datetime'].equals(new_df['update_datetime'])):\n",
    "        print('no_updates')\n",
    "      else:\n",
    "        minute_updates = minute_updates + 1\n",
    "        print(i)\n",
    "    except:\n",
    "      continue\n",
    "    initial_df = new_df\n",
    "  print(\"The number of updates that took place in 30 minutes is\", minute_updates)\n",
    "\n",
    "checkMinuteUpdates(initial_df)"
   ]
  },
  {
   "cell_type": "markdown",
   "metadata": {
    "id": "l9smfkyKcRsz"
   },
   "source": [
    "Interestingly, we see one update take place over 30 minutes, specifically at the 25th minute (between 20 and 25 minutes) which contradicts what we anticpated. Let us now check the interval so we can know when the update takes place exactly. "
   ]
  },
  {
   "cell_type": "code",
   "execution_count": null,
   "metadata": {
    "colab": {
     "base_uri": "https://localhost:8080/"
    },
    "id": "EHvtYR9ZjelG",
    "outputId": "e0972377-8eb0-442b-a93d-a07c83bff65a"
   },
   "outputs": [
    {
     "name": "stdout",
     "output_type": "stream",
     "text": [
      "https://api.data.gov.sg/v1/transport/carpark-availability?date_time=2022-01-01T12%3A00%3A00\n",
      "2022-01-01T11:59:27+08:00\n",
      "https://api.data.gov.sg/v1/transport/carpark-availability?date_time=2022-01-01T12%3A20%3A00\n",
      "2022-01-01T12:19:27+08:00\n",
      "no_updates\n",
      "https://api.data.gov.sg/v1/transport/carpark-availability?date_time=2022-01-01T12%3A21%3A00\n",
      "2022-01-01T12:20:27+08:00\n",
      "no_updates\n",
      "https://api.data.gov.sg/v1/transport/carpark-availability?date_time=2022-01-01T12%3A22%3A00\n",
      "https://api.data.gov.sg/v1/transport/carpark-availability?date_time=2022-01-01T12%3A23%3A00\n",
      "2022-01-01T12:22:26+08:00\n",
      "The update takes place at minute 23\n",
      "https://api.data.gov.sg/v1/transport/carpark-availability?date_time=2022-01-01T12%3A24%3A00\n",
      "2022-01-01T12:23:27+08:00\n",
      "no_updates\n",
      "https://api.data.gov.sg/v1/transport/carpark-availability?date_time=2022-01-01T12%3A25%3A00\n",
      "2022-01-01T12:24:27+08:00\n",
      "no_updates\n"
     ]
    }
   ],
   "source": [
    "# The initial data we extract from 1/1/2022 12:00:00\n",
    "initial_df = APICall(\"2022\", \"1\", \"1\", \"12\",\"0\", \"0\")\n",
    "\n",
    "def checkMinuteUpdates(initial_df):\n",
    "  minute_updates = 0\n",
    "  for i in range(20, 26, 1):\n",
    "    try:\n",
    "      # first check takes place at 12:01:00\n",
    "      new_df = APICall(\"2022\", \"1\", \"1\", \"12\",str(i),\"0\")\n",
    "      if(initial_df['update_datetime'].equals(new_df['update_datetime'])):\n",
    "        print('no_updates')\n",
    "      else:\n",
    "        minute_updates = minute_updates + 1\n",
    "        print(\"The update takes place at minute\", i)\n",
    "    except:\n",
    "      continue\n",
    "    initial_df = new_df\n",
    "\n",
    "checkMinuteUpdates(initial_df)"
   ]
  },
  {
   "cell_type": "markdown",
   "metadata": {
    "id": "7hdpV33mf_n4"
   },
   "source": [
    "The update takes place at the 23rd minute (12:23:00), however, we are unsure when the update prior to this took place. So now we check the minutes it takes after this particular update takes place. We start by looking for the interval during which this next update takes place, so we use 5 minute intervals again."
   ]
  },
  {
   "cell_type": "code",
   "execution_count": null,
   "metadata": {
    "colab": {
     "base_uri": "https://localhost:8080/"
    },
    "id": "ALuhFvUzkYk-",
    "outputId": "be343610-2a20-471d-858a-3acc58ba6ac7"
   },
   "outputs": [
    {
     "name": "stdout",
     "output_type": "stream",
     "text": [
      "https://api.data.gov.sg/v1/transport/carpark-availability?date_time=2022-01-01T12%3A23%3A00\n",
      "2022-01-01T12:22:26+08:00\n",
      "https://api.data.gov.sg/v1/transport/carpark-availability?date_time=2022-01-01T12%3A23%3A00\n",
      "2022-01-01T12:22:26+08:00\n",
      "no_updates\n",
      "https://api.data.gov.sg/v1/transport/carpark-availability?date_time=2022-01-01T12%3A28%3A00\n",
      "https://api.data.gov.sg/v1/transport/carpark-availability?date_time=2022-01-01T12%3A33%3A00\n",
      "https://api.data.gov.sg/v1/transport/carpark-availability?date_time=2022-01-01T12%3A38%3A00\n",
      "https://api.data.gov.sg/v1/transport/carpark-availability?date_time=2022-01-01T12%3A43%3A00\n",
      "2022-01-01T12:42:26+08:00\n",
      "no_updates\n",
      "https://api.data.gov.sg/v1/transport/carpark-availability?date_time=2022-01-01T12%3A48%3A00\n",
      "2022-01-01T12:47:27+08:00\n",
      "no_updates\n",
      "https://api.data.gov.sg/v1/transport/carpark-availability?date_time=2022-01-01T12%3A53%3A00\n",
      "2022-01-01T12:52:27+08:00\n",
      "The update takes place at minute 53\n"
     ]
    }
   ],
   "source": [
    "# The initial data we extract from 1/1/2022 12:23:00\n",
    "initial_df = APICall(\"2022\", \"1\", \"1\", \"12\",\"23\", \"0\")\n",
    "\n",
    "def checkMinuteUpdates(initial_df):\n",
    "  minute_updates = 0\n",
    "  for i in range(23, 58, 5):\n",
    "    try:\n",
    "      # first check takes place at 12:27:00\n",
    "      new_df = APICall(\"2022\", \"1\", \"1\", \"12\",str(i),\"0\")\n",
    "      if(initial_df['update_datetime'].equals(new_df['update_datetime'])):\n",
    "        print('no_updates')\n",
    "      else:\n",
    "        minute_updates = minute_updates + 1\n",
    "        print(\"The update takes place at minute\", i)\n",
    "    except:\n",
    "      continue\n",
    "    initial_df = new_df\n",
    "\n",
    "checkMinuteUpdates(initial_df)"
   ]
  },
  {
   "cell_type": "markdown",
   "metadata": {
    "id": "Ix_GSvPnk-dO"
   },
   "source": [
    "The next update takes place in the interval of 48 to 53 minutes (12:48:00 to 12:53:00) , let us now find the exact time.\n"
   ]
  },
  {
   "cell_type": "code",
   "execution_count": null,
   "metadata": {
    "colab": {
     "base_uri": "https://localhost:8080/"
    },
    "id": "fh92afdWlJfZ",
    "outputId": "1d621da3-0733-42e1-841b-6710d00d7eee"
   },
   "outputs": [
    {
     "name": "stdout",
     "output_type": "stream",
     "text": [
      "https://api.data.gov.sg/v1/transport/carpark-availability?date_time=2022-01-01T12%3A22%3A00\n",
      "2022-01-01T12:21:27+08:00\n",
      "https://api.data.gov.sg/v1/transport/carpark-availability?date_time=2022-01-01T12%3A46%3A00\n",
      "2022-01-01T12:45:27+08:00\n",
      "no_updates\n",
      "https://api.data.gov.sg/v1/transport/carpark-availability?date_time=2022-01-01T12%3A47%3A00\n",
      "2022-01-01T12:46:27+08:00\n",
      "no_updates\n",
      "https://api.data.gov.sg/v1/transport/carpark-availability?date_time=2022-01-01T12%3A48%3A00\n",
      "2022-01-01T12:47:27+08:00\n",
      "no_updates\n",
      "https://api.data.gov.sg/v1/transport/carpark-availability?date_time=2022-01-01T12%3A49%3A00\n",
      "2022-01-01T12:48:27+08:00\n",
      "no_updates\n",
      "https://api.data.gov.sg/v1/transport/carpark-availability?date_time=2022-01-01T12%3A50%3A00\n",
      "2022-01-01T12:49:26+08:00\n",
      "no_updates\n",
      "https://api.data.gov.sg/v1/transport/carpark-availability?date_time=2022-01-01T12%3A51%3A00\n",
      "2022-01-01T12:50:26+08:00\n",
      "no_updates\n",
      "https://api.data.gov.sg/v1/transport/carpark-availability?date_time=2022-01-01T12%3A52%3A00\n",
      "2022-01-01T12:51:27+08:00\n",
      "The update takes place at minute 52\n"
     ]
    }
   ],
   "source": [
    "# The initial data we extract from 1/1/2022 12:22:00\n",
    "initial_df = APICall(\"2022\", \"1\", \"1\", \"12\",\"22\", \"0\")\n",
    "\n",
    "def checkMinuteUpdates(initial_df):\n",
    "  minute_updates = 0\n",
    "  for i in range(47, 54, 1):\n",
    "    try:\n",
    "      # first check takes place at 12:47:00\n",
    "      new_df = APICall(\"2022\", \"1\", \"1\", \"12\",str(i),\"0\")\n",
    "      if(initial_df['update_datetime'].equals(new_df['update_datetime'])):\n",
    "        print('no_updates')\n",
    "      else:\n",
    "        minute_updates = minute_updates + 1\n",
    "        print(\"The update takes place at minute\", i)\n",
    "    except:\n",
    "      continue\n",
    "    initial_df = new_df\n",
    "\n",
    "checkMinuteUpdates(initial_df)"
   ]
  },
  {
   "cell_type": "markdown",
   "metadata": {
    "id": "SlgoGewIlfJZ"
   },
   "source": [
    "The next update takes place at the 52nd minute (12:52:00). Therfore our estimated time elapsed between updates is about **30 minutes**. "
   ]
  },
  {
   "cell_type": "markdown",
   "metadata": {
    "id": "wjyNisiQ_6cW"
   },
   "source": [
    "<a name=\"1.3i\"></a>\n",
    "**1.3 (i) How many carparks are included in the data.gov.sg car park database?**\n",
    "\n",
    "\n"
   ]
  },
  {
   "cell_type": "markdown",
   "metadata": {
    "id": "AzBptIDyhC16"
   },
   "source": [
    "Carparks at latest time."
   ]
  },
  {
   "cell_type": "code",
   "execution_count": null,
   "metadata": {
    "colab": {
     "base_uri": "https://localhost:8080/"
    },
    "id": "gWbU4VOspwgQ",
    "outputId": "fccdd8a0-c780-4ef7-d6fa-c47819a07984"
   },
   "outputs": [
    {
     "name": "stdout",
     "output_type": "stream",
     "text": [
      "https://api.data.gov.sg/v1/transport/carpark-availability?date_time=2022-10-19T22%3A31%3A00\n",
      "2022-10-19T22:30:27+08:00\n"
     ]
    },
    {
     "data": {
      "text/plain": [
       "1957"
      ]
     },
     "execution_count": 30,
     "metadata": {},
     "output_type": "execute_result"
    }
   ],
   "source": [
    "df = APICall(\"2022\", \"10\", \"19\", \"22\", \"31\", \"0\")\n",
    "\n",
    "count = initial_df.carpark_number.unique().size\n",
    "count"
   ]
  },
  {
   "cell_type": "markdown",
   "metadata": {
    "id": "uJqmntayqdzb"
   },
   "source": [
    "1957 carparks as of 19/10/2022, 10:31 pm"
   ]
  },
  {
   "cell_type": "markdown",
   "metadata": {
    "id": "VQxp9NM3EYvq"
   },
   "source": [
    "<a name=\"1.3ii\"></a>\n",
    "**(ii) Does this number vary based on the time? You should notice that it does vary with time.** \n"
   ]
  },
  {
   "cell_type": "markdown",
   "metadata": {
    "id": "4YHGlBwwhL_K"
   },
   "source": [
    "Yes the the number of carparks varies with time. Let us check this variance by first getting the number of carparks as of 1/1/2022 at 12:00:00."
   ]
  },
  {
   "cell_type": "code",
   "execution_count": null,
   "metadata": {
    "colab": {
     "base_uri": "https://localhost:8080/"
    },
    "id": "Rx4EqBekhhSK",
    "outputId": "2c539efd-d5bf-4f58-9baf-a1cfe28e28a0"
   },
   "outputs": [
    {
     "name": "stdout",
     "output_type": "stream",
     "text": [
      "https://api.data.gov.sg/v1/transport/carpark-availability?date_time=2022-01-01T12%3A00%3A00\n",
      "2022-01-01T11:59:27+08:00\n"
     ]
    },
    {
     "data": {
      "text/plain": [
       "1957"
      ]
     },
     "execution_count": 32,
     "metadata": {},
     "output_type": "execute_result"
    }
   ],
   "source": [
    "# The initial data we extract from 1/1/2022 12:00:00\n",
    "initial_df = APICall(\"2022\", \"1\", \"1\", \"12\",\"0\", \"0\")\n",
    "\n",
    "# We count the number of unqiue carkpark_numbers in the dataframe to get the\n",
    "# number of carparks \n",
    "count = initial_df.carpark_number.unique().size\n",
    "count"
   ]
  },
  {
   "cell_type": "markdown",
   "metadata": {
    "id": "Wbt1i8z7iRmJ"
   },
   "source": [
    "Let us now check the number of carparks as of the next month i.e. 1/2/2022 at 12:00:00."
   ]
  },
  {
   "cell_type": "code",
   "execution_count": null,
   "metadata": {
    "colab": {
     "base_uri": "https://localhost:8080/"
    },
    "id": "Y1ynB39ZigZJ",
    "outputId": "76366901-4fa2-4e3a-e2f5-89ef24c4dea0"
   },
   "outputs": [
    {
     "name": "stdout",
     "output_type": "stream",
     "text": [
      "https://api.data.gov.sg/v1/transport/carpark-availability?date_time=2022-02-01T12%3A00%3A00\n",
      "2022-02-01T11:59:27+08:00\n"
     ]
    },
    {
     "data": {
      "text/plain": [
       "1958"
      ]
     },
     "execution_count": 36,
     "metadata": {},
     "output_type": "execute_result"
    }
   ],
   "source": [
    "# The initial data we extract from 2/1/2022 12:00:00\n",
    "new_df = APICall(\"2022\", \"2\", \"1\", \"12\",\"0\", \"0\")\n",
    "\n",
    "# We count the number of unqiue carkpark_numbers in the dataframe to get the\n",
    "# number of carparks \n",
    "count = new_df.carpark_number.unique().size\n",
    "count"
   ]
  },
  {
   "cell_type": "markdown",
   "metadata": {
    "id": "xEieM7T9im1h"
   },
   "source": [
    "As we can see the counts on both these days are different. Within a span of one month we have an extra carpark added. (from 1957 -> 1958)"
   ]
  },
  {
   "cell_type": "markdown",
   "metadata": {
    "id": "r7l1JfVoEZEA"
   },
   "source": [
    "<a name=\"1.3iii\"></a>\n",
    "**(iii) A carpark may have malfunctioning sensors and nor report its data. Identify one of these\n",
    "carparks with anomalous sensors and a time period where that carpark’s sensors were\n",
    "malfunctioning.** "
   ]
  },
  {
   "cell_type": "markdown",
   "metadata": {
    "id": "6Q2vMQ3jkdrr"
   },
   "source": [
    "To identify a carpark whose sensor is malfunctioning, we look for a carpark where such the total lots is 0. Since every carpark should have at least 1 parking space to be considered a carpark. "
   ]
  },
  {
   "cell_type": "code",
   "execution_count": null,
   "metadata": {
    "colab": {
     "base_uri": "https://localhost:8080/",
     "height": 115
    },
    "id": "wyoKck5JlEZz",
    "outputId": "282cef01-77e1-4cfa-a9dd-efa60e3589b1"
   },
   "outputs": [
    {
     "name": "stdout",
     "output_type": "stream",
     "text": [
      "https://api.data.gov.sg/v1/transport/carpark-availability?date_time=2022-02-01T12%3A00%3A00\n",
      "2022-02-01T11:59:27+08:00\n"
     ]
    },
    {
     "data": {
      "text/html": [
       "\n",
       "  <div id=\"df-00f3b61c-8a21-492d-b5fd-d0443bf13a1b\">\n",
       "    <div class=\"colab-df-container\">\n",
       "      <div>\n",
       "<style scoped>\n",
       "    .dataframe tbody tr th:only-of-type {\n",
       "        vertical-align: middle;\n",
       "    }\n",
       "\n",
       "    .dataframe tbody tr th {\n",
       "        vertical-align: top;\n",
       "    }\n",
       "\n",
       "    .dataframe thead th {\n",
       "        text-align: right;\n",
       "    }\n",
       "</style>\n",
       "<table border=\"1\" class=\"dataframe\">\n",
       "  <thead>\n",
       "    <tr style=\"text-align: right;\">\n",
       "      <th></th>\n",
       "      <th>carpark_number</th>\n",
       "      <th>update_datetime</th>\n",
       "      <th>total_lots</th>\n",
       "      <th>lot_type</th>\n",
       "      <th>lots_available</th>\n",
       "    </tr>\n",
       "  </thead>\n",
       "  <tbody>\n",
       "    <tr>\n",
       "      <th>1945</th>\n",
       "      <td>BJ1L</td>\n",
       "      <td>2020-12-11T23:33:04</td>\n",
       "      <td>0</td>\n",
       "      <td>C</td>\n",
       "      <td>0</td>\n",
       "    </tr>\n",
       "  </tbody>\n",
       "</table>\n",
       "</div>\n",
       "      <button class=\"colab-df-convert\" onclick=\"convertToInteractive('df-00f3b61c-8a21-492d-b5fd-d0443bf13a1b')\"\n",
       "              title=\"Convert this dataframe to an interactive table.\"\n",
       "              style=\"display:none;\">\n",
       "        \n",
       "  <svg xmlns=\"http://www.w3.org/2000/svg\" height=\"24px\"viewBox=\"0 0 24 24\"\n",
       "       width=\"24px\">\n",
       "    <path d=\"M0 0h24v24H0V0z\" fill=\"none\"/>\n",
       "    <path d=\"M18.56 5.44l.94 2.06.94-2.06 2.06-.94-2.06-.94-.94-2.06-.94 2.06-2.06.94zm-11 1L8.5 8.5l.94-2.06 2.06-.94-2.06-.94L8.5 2.5l-.94 2.06-2.06.94zm10 10l.94 2.06.94-2.06 2.06-.94-2.06-.94-.94-2.06-.94 2.06-2.06.94z\"/><path d=\"M17.41 7.96l-1.37-1.37c-.4-.4-.92-.59-1.43-.59-.52 0-1.04.2-1.43.59L10.3 9.45l-7.72 7.72c-.78.78-.78 2.05 0 2.83L4 21.41c.39.39.9.59 1.41.59.51 0 1.02-.2 1.41-.59l7.78-7.78 2.81-2.81c.8-.78.8-2.07 0-2.86zM5.41 20L4 18.59l7.72-7.72 1.47 1.35L5.41 20z\"/>\n",
       "  </svg>\n",
       "      </button>\n",
       "      \n",
       "  <style>\n",
       "    .colab-df-container {\n",
       "      display:flex;\n",
       "      flex-wrap:wrap;\n",
       "      gap: 12px;\n",
       "    }\n",
       "\n",
       "    .colab-df-convert {\n",
       "      background-color: #E8F0FE;\n",
       "      border: none;\n",
       "      border-radius: 50%;\n",
       "      cursor: pointer;\n",
       "      display: none;\n",
       "      fill: #1967D2;\n",
       "      height: 32px;\n",
       "      padding: 0 0 0 0;\n",
       "      width: 32px;\n",
       "    }\n",
       "\n",
       "    .colab-df-convert:hover {\n",
       "      background-color: #E2EBFA;\n",
       "      box-shadow: 0px 1px 2px rgba(60, 64, 67, 0.3), 0px 1px 3px 1px rgba(60, 64, 67, 0.15);\n",
       "      fill: #174EA6;\n",
       "    }\n",
       "\n",
       "    [theme=dark] .colab-df-convert {\n",
       "      background-color: #3B4455;\n",
       "      fill: #D2E3FC;\n",
       "    }\n",
       "\n",
       "    [theme=dark] .colab-df-convert:hover {\n",
       "      background-color: #434B5C;\n",
       "      box-shadow: 0px 1px 3px 1px rgba(0, 0, 0, 0.15);\n",
       "      filter: drop-shadow(0px 1px 2px rgba(0, 0, 0, 0.3));\n",
       "      fill: #FFFFFF;\n",
       "    }\n",
       "  </style>\n",
       "\n",
       "      <script>\n",
       "        const buttonEl =\n",
       "          document.querySelector('#df-00f3b61c-8a21-492d-b5fd-d0443bf13a1b button.colab-df-convert');\n",
       "        buttonEl.style.display =\n",
       "          google.colab.kernel.accessAllowed ? 'block' : 'none';\n",
       "\n",
       "        async function convertToInteractive(key) {\n",
       "          const element = document.querySelector('#df-00f3b61c-8a21-492d-b5fd-d0443bf13a1b');\n",
       "          const dataTable =\n",
       "            await google.colab.kernel.invokeFunction('convertToInteractive',\n",
       "                                                     [key], {});\n",
       "          if (!dataTable) return;\n",
       "\n",
       "          const docLinkHtml = 'Like what you see? Visit the ' +\n",
       "            '<a target=\"_blank\" href=https://colab.research.google.com/notebooks/data_table.ipynb>data table notebook</a>'\n",
       "            + ' to learn more about interactive tables.';\n",
       "          element.innerHTML = '';\n",
       "          dataTable['output_type'] = 'display_data';\n",
       "          await google.colab.output.renderOutput(dataTable, element);\n",
       "          const docLink = document.createElement('div');\n",
       "          docLink.innerHTML = docLinkHtml;\n",
       "          element.appendChild(docLink);\n",
       "        }\n",
       "      </script>\n",
       "    </div>\n",
       "  </div>\n",
       "  "
      ],
      "text/plain": [
       "     carpark_number      update_datetime total_lots lot_type lots_available\n",
       "1945           BJ1L  2020-12-11T23:33:04          0        C              0"
      ]
     },
     "execution_count": 50,
     "metadata": {},
     "output_type": "execute_result"
    }
   ],
   "source": [
    "df = APICall(\"2022\", \"2\", \"1\", \"12\",\"0\", \"0\")\n",
    "df.loc[df['total_lots'] == \"0\"]\n",
    "\n"
   ]
  },
  {
   "cell_type": "markdown",
   "metadata": {
    "id": "HkD-IYaZrcw9"
   },
   "source": [
    "We thus have the carpark BJ1L that has 0 number of lots. Note that the update_datetime is from two years ago which means the sensors of that carpark have not been working for quite some time. "
   ]
  },
  {
   "cell_type": "markdown",
   "metadata": {
    "id": "E_1uwXFAAE8n"
   },
   "source": [
    "<a name=\"1.4\"></a>\n",
    "**1.4 Generate hourly readings from the raw data. Select a one month interval and plot the hourly data (time-series) for that interval (aggregate results instead of plotting for each location individually). \n",
    "Identify any patterns in the visualization.** \n",
    "\n",
    "**Note: You will have to decide what to do if there are no carpark readings for a certain hour, for example, should you impute the missing data or ignore it.** \n"
   ]
  },
  {
   "cell_type": "markdown",
   "metadata": {
    "id": "Q2JU5b0mMcNu"
   },
   "source": [
    "We will start by collecting data for the month of September 2022  (most recent data). \n",
    "\n",
    "First we define the function to get the carpark availability data of a specific time from LTA's API."
   ]
  },
  {
   "cell_type": "code",
   "execution_count": 8,
   "metadata": {
    "id": "OwTfirKGMo_L"
   },
   "outputs": [],
   "source": [
    "def get_data(year,month,day,hour,minute,second):\n",
    "    year = str(year)\n",
    "    month = str(month)\n",
    "    day = str(day)\n",
    "    hour = str(hour)\n",
    "    minute = str(minute)\n",
    "    second = str(second)\n",
    "    \n",
    "    site = f'https://api.data.gov.sg/v1/transport/carpark-availability?date_time={year}-{month.zfill(2)}-{day.zfill(2)}T{hour.zfill(2)}%3A{minute.zfill(2)}%3A{second.zfill(2)}'\n",
    "    print(site)\n",
    "    response_API = requests.get(site)\n",
    "    data = response_API.text\n",
    "    data = json.loads(data)\n",
    "    timestamp = data[\"items\"][0][\"timestamp\"]\n",
    "    print(timestamp)\n",
    "\n",
    "    data = data[\"items\"][0][\"carpark_data\"]\n",
    "    with open(\"EE4211data.json\", 'w') as fp:\n",
    "        json.dump(data, fp)\n",
    "    df = pd.read_json(\"EE4211data.json\")\n",
    "    for heading in (\"total_lots\",\"lot_type\",\"lots_available\"):\n",
    "        df[heading] = df[\"carpark_info\"].apply(lambda x: x[0][heading])\n",
    "    df = df.drop([\"carpark_info\"], axis=1)\n",
    "    return df"
   ]
  },
  {
   "cell_type": "markdown",
   "metadata": {
    "id": "qCRQOokCNxEv"
   },
   "source": [
    "Then, we call this function iteratively to get the hourly data for the month of September 2022. \n",
    "\n",
    "*Note: there are no data from the API for the time of 0000hrs. Since this is consistent for all carparks, we will not be collecting the data points of all carparks for that timing as it will just be NULL. This is fine as it will not affect our results for the subsequent questions anyway.*\n",
    "\n",
    "This will give us a resultant dataframe of 23 x 30 = 690 hourly datapoints.\n"
   ]
  },
  {
   "cell_type": "code",
   "execution_count": 9,
   "metadata": {
    "id": "XxGlFidFNwjJ"
   },
   "outputs": [
    {
     "name": "stdout",
     "output_type": "stream",
     "text": [
      "https://api.data.gov.sg/v1/transport/carpark-availability?date_time=2022-09-01T01%3A00%3A00\n"
     ]
    },
    {
     "ename": "KeyError",
     "evalue": "'items'",
     "output_type": "error",
     "traceback": [
      "\u001b[0;31m---------------------------------------------------------------------------\u001b[0m",
      "\u001b[0;31mKeyError\u001b[0m                                  Traceback (most recent call last)",
      "Cell \u001b[0;32mIn [9], line 5\u001b[0m\n\u001b[1;32m      2\u001b[0m hour \u001b[38;5;241m=\u001b[39m \u001b[38;5;241m2\u001b[39m\n\u001b[1;32m      4\u001b[0m \u001b[38;5;66;03m# Gets the first df (first hour of first day)\u001b[39;00m\n\u001b[0;32m----> 5\u001b[0m first \u001b[38;5;241m=\u001b[39m \u001b[43mget_data\u001b[49m\u001b[43m(\u001b[49m\u001b[38;5;241;43m2022\u001b[39;49m\u001b[43m,\u001b[49m\u001b[38;5;241;43m9\u001b[39;49m\u001b[43m,\u001b[49m\u001b[43mday\u001b[49m\u001b[43m,\u001b[49m\u001b[43mhour\u001b[49m\u001b[38;5;241;43m-\u001b[39;49m\u001b[38;5;241;43m1\u001b[39;49m\u001b[43m,\u001b[49m\u001b[38;5;241;43m0\u001b[39;49m\u001b[43m,\u001b[49m\u001b[38;5;241;43m0\u001b[39;49m\u001b[43m)\u001b[49m\n\u001b[1;32m      6\u001b[0m first \u001b[38;5;241m=\u001b[39m first[[\u001b[38;5;124m'\u001b[39m\u001b[38;5;124mcarpark_number\u001b[39m\u001b[38;5;124m'\u001b[39m,\u001b[38;5;124m'\u001b[39m\u001b[38;5;124mlots_available\u001b[39m\u001b[38;5;124m'\u001b[39m]]\n\u001b[1;32m      8\u001b[0m \u001b[38;5;66;03m# Gets the rest in hourly interval\u001b[39;00m\n",
      "Cell \u001b[0;32mIn [8], line 14\u001b[0m, in \u001b[0;36mget_data\u001b[0;34m(year, month, day, hour, minute, second)\u001b[0m\n\u001b[1;32m     12\u001b[0m data \u001b[38;5;241m=\u001b[39m response_API\u001b[38;5;241m.\u001b[39mtext\n\u001b[1;32m     13\u001b[0m data \u001b[38;5;241m=\u001b[39m json\u001b[38;5;241m.\u001b[39mloads(data)\n\u001b[0;32m---> 14\u001b[0m timestamp \u001b[38;5;241m=\u001b[39m \u001b[43mdata\u001b[49m\u001b[43m[\u001b[49m\u001b[38;5;124;43m\"\u001b[39;49m\u001b[38;5;124;43mitems\u001b[39;49m\u001b[38;5;124;43m\"\u001b[39;49m\u001b[43m]\u001b[49m[\u001b[38;5;241m0\u001b[39m][\u001b[38;5;124m\"\u001b[39m\u001b[38;5;124mtimestamp\u001b[39m\u001b[38;5;124m\"\u001b[39m]\n\u001b[1;32m     15\u001b[0m \u001b[38;5;28mprint\u001b[39m(timestamp)\n\u001b[1;32m     17\u001b[0m data \u001b[38;5;241m=\u001b[39m data[\u001b[38;5;124m\"\u001b[39m\u001b[38;5;124mitems\u001b[39m\u001b[38;5;124m\"\u001b[39m][\u001b[38;5;241m0\u001b[39m][\u001b[38;5;124m\"\u001b[39m\u001b[38;5;124mcarpark_data\u001b[39m\u001b[38;5;124m\"\u001b[39m]\n",
      "\u001b[0;31mKeyError\u001b[0m: 'items'"
     ]
    }
   ],
   "source": [
    "day = 1\n",
    "hour = 2\n",
    "\n",
    "# Gets the first df (first hour of first day)\n",
    "first = get_data(2022,9,day,hour-1,0,0)\n",
    "first = first[['carpark_number','lots_available']]\n",
    "\n",
    "# Gets the rest in hourly interval\n",
    "while day != 30 or hour != 24:\n",
    "    try:\n",
    "        second = get_data(2022,9,day,hour,0,0)\n",
    "        # Formats new df and merge with previous hour\n",
    "        second = second[['carpark_number','lots_available']]\n",
    "        second.rename(columns = {'lots_available':\"{0}-{1}\".format(hour,day)}, inplace = True)\n",
    "        second.drop_duplicates(subset=\"carpark_number\",keep=False, inplace=True)\n",
    "        first = pd.merge(first, second, on='carpark_number', how='left')\n",
    "\n",
    "        # Increment to next hour\n",
    "        hour += 1\n",
    "        if hour == 24:\n",
    "            hour = 1\n",
    "            day += 1\n",
    "    # API will keep crashing, try again if it fails    \n",
    "    except KeyError:\n",
    "        pass\n"
   ]
  },
  {
   "cell_type": "markdown",
   "metadata": {
    "id": "UfSYHRUQPuRN"
   },
   "source": [
    "We will save this to a JSON file for futher access to save us from the pain of running the code again to  collect the hourly data for an entire month."
   ]
  },
  {
   "cell_type": "code",
   "execution_count": null,
   "metadata": {
    "id": "gNRf9NWqQJtz"
   },
   "outputs": [],
   "source": [
    "with open('hourly.json', 'w') as f:\n",
    "    f.write(first.to_json(orient='records', lines=True))"
   ]
  },
  {
   "cell_type": "markdown",
   "metadata": {
    "id": "fPzbWwbLQO7L"
   },
   "source": [
    "Now, we can get the data easily. \n",
    "\n",
    "Columns are named in terms of hour-day. Eg: 1-30 means first hour of day thirty."
   ]
  },
  {
   "cell_type": "code",
   "execution_count": null,
   "metadata": {
    "colab": {
     "base_uri": "https://localhost:8080/",
     "height": 505
    },
    "id": "8TCsSFkIQOCb",
    "outputId": "bec4c578-3106-4eae-bd09-1511ffd6563d"
   },
   "outputs": [
    {
     "data": {
      "text/html": [
       "\n",
       "  <div id=\"df-5c2e48e5-6c5e-410f-9484-661242133656\">\n",
       "    <div class=\"colab-df-container\">\n",
       "      <div>\n",
       "<style scoped>\n",
       "    .dataframe tbody tr th:only-of-type {\n",
       "        vertical-align: middle;\n",
       "    }\n",
       "\n",
       "    .dataframe tbody tr th {\n",
       "        vertical-align: top;\n",
       "    }\n",
       "\n",
       "    .dataframe thead th {\n",
       "        text-align: right;\n",
       "    }\n",
       "</style>\n",
       "<table border=\"1\" class=\"dataframe\">\n",
       "  <thead>\n",
       "    <tr style=\"text-align: right;\">\n",
       "      <th></th>\n",
       "      <th>carpark_number</th>\n",
       "      <th>1-1</th>\n",
       "      <th>2-1</th>\n",
       "      <th>3-1</th>\n",
       "      <th>4-1</th>\n",
       "      <th>5-1</th>\n",
       "      <th>6-1</th>\n",
       "      <th>7-1</th>\n",
       "      <th>8-1</th>\n",
       "      <th>9-1</th>\n",
       "      <th>...</th>\n",
       "      <th>14-30</th>\n",
       "      <th>15-30</th>\n",
       "      <th>16-30</th>\n",
       "      <th>17-30</th>\n",
       "      <th>18-30</th>\n",
       "      <th>19-30</th>\n",
       "      <th>20-30</th>\n",
       "      <th>21-30</th>\n",
       "      <th>22-30</th>\n",
       "      <th>23-30</th>\n",
       "    </tr>\n",
       "  </thead>\n",
       "  <tbody>\n",
       "    <tr>\n",
       "      <th>0</th>\n",
       "      <td>HE12</td>\n",
       "      <td>53</td>\n",
       "      <td>59.0</td>\n",
       "      <td>56.0</td>\n",
       "      <td>48.0</td>\n",
       "      <td>35.0</td>\n",
       "      <td>22.0</td>\n",
       "      <td>7.0</td>\n",
       "      <td>0.0</td>\n",
       "      <td>0.0</td>\n",
       "      <td>...</td>\n",
       "      <td>0.0</td>\n",
       "      <td>0.0</td>\n",
       "      <td>0.0</td>\n",
       "      <td>0.0</td>\n",
       "      <td>0.0</td>\n",
       "      <td>0.0</td>\n",
       "      <td>0.0</td>\n",
       "      <td>0.0</td>\n",
       "      <td>0.0</td>\n",
       "      <td>0.0</td>\n",
       "    </tr>\n",
       "    <tr>\n",
       "      <th>1</th>\n",
       "      <td>HLM</td>\n",
       "      <td>480</td>\n",
       "      <td>479.0</td>\n",
       "      <td>478.0</td>\n",
       "      <td>478.0</td>\n",
       "      <td>474.0</td>\n",
       "      <td>470.0</td>\n",
       "      <td>459.0</td>\n",
       "      <td>375.0</td>\n",
       "      <td>276.0</td>\n",
       "      <td>...</td>\n",
       "      <td>46.0</td>\n",
       "      <td>93.0</td>\n",
       "      <td>123.0</td>\n",
       "      <td>174.0</td>\n",
       "      <td>221.0</td>\n",
       "      <td>227.0</td>\n",
       "      <td>242.0</td>\n",
       "      <td>295.0</td>\n",
       "      <td>376.0</td>\n",
       "      <td>442.0</td>\n",
       "    </tr>\n",
       "    <tr>\n",
       "      <th>2</th>\n",
       "      <td>RHM</td>\n",
       "      <td>122</td>\n",
       "      <td>122.0</td>\n",
       "      <td>118.0</td>\n",
       "      <td>116.0</td>\n",
       "      <td>113.0</td>\n",
       "      <td>111.0</td>\n",
       "      <td>120.0</td>\n",
       "      <td>123.0</td>\n",
       "      <td>166.0</td>\n",
       "      <td>...</td>\n",
       "      <td>118.0</td>\n",
       "      <td>152.0</td>\n",
       "      <td>195.0</td>\n",
       "      <td>200.0</td>\n",
       "      <td>200.0</td>\n",
       "      <td>165.0</td>\n",
       "      <td>133.0</td>\n",
       "      <td>133.0</td>\n",
       "      <td>137.0</td>\n",
       "      <td>137.0</td>\n",
       "    </tr>\n",
       "    <tr>\n",
       "      <th>3</th>\n",
       "      <td>BM29</td>\n",
       "      <td>81</td>\n",
       "      <td>82.0</td>\n",
       "      <td>83.0</td>\n",
       "      <td>83.0</td>\n",
       "      <td>83.0</td>\n",
       "      <td>83.0</td>\n",
       "      <td>78.0</td>\n",
       "      <td>36.0</td>\n",
       "      <td>20.0</td>\n",
       "      <td>...</td>\n",
       "      <td>0.0</td>\n",
       "      <td>0.0</td>\n",
       "      <td>0.0</td>\n",
       "      <td>11.0</td>\n",
       "      <td>23.0</td>\n",
       "      <td>23.0</td>\n",
       "      <td>13.0</td>\n",
       "      <td>22.0</td>\n",
       "      <td>25.0</td>\n",
       "      <td>62.0</td>\n",
       "    </tr>\n",
       "    <tr>\n",
       "      <th>4</th>\n",
       "      <td>Q81</td>\n",
       "      <td>79</td>\n",
       "      <td>80.0</td>\n",
       "      <td>79.0</td>\n",
       "      <td>79.0</td>\n",
       "      <td>79.0</td>\n",
       "      <td>75.0</td>\n",
       "      <td>53.0</td>\n",
       "      <td>7.0</td>\n",
       "      <td>13.0</td>\n",
       "      <td>...</td>\n",
       "      <td>6.0</td>\n",
       "      <td>30.0</td>\n",
       "      <td>34.0</td>\n",
       "      <td>31.0</td>\n",
       "      <td>24.0</td>\n",
       "      <td>27.0</td>\n",
       "      <td>20.0</td>\n",
       "      <td>46.0</td>\n",
       "      <td>59.0</td>\n",
       "      <td>70.0</td>\n",
       "    </tr>\n",
       "    <tr>\n",
       "      <th>...</th>\n",
       "      <td>...</td>\n",
       "      <td>...</td>\n",
       "      <td>...</td>\n",
       "      <td>...</td>\n",
       "      <td>...</td>\n",
       "      <td>...</td>\n",
       "      <td>...</td>\n",
       "      <td>...</td>\n",
       "      <td>...</td>\n",
       "      <td>...</td>\n",
       "      <td>...</td>\n",
       "      <td>...</td>\n",
       "      <td>...</td>\n",
       "      <td>...</td>\n",
       "      <td>...</td>\n",
       "      <td>...</td>\n",
       "      <td>...</td>\n",
       "      <td>...</td>\n",
       "      <td>...</td>\n",
       "      <td>...</td>\n",
       "      <td>...</td>\n",
       "    </tr>\n",
       "    <tr>\n",
       "      <th>1966</th>\n",
       "      <td>B65M</td>\n",
       "      <td>320</td>\n",
       "      <td>318.0</td>\n",
       "      <td>312.0</td>\n",
       "      <td>306.0</td>\n",
       "      <td>305.0</td>\n",
       "      <td>303.0</td>\n",
       "      <td>334.0</td>\n",
       "      <td>370.0</td>\n",
       "      <td>430.0</td>\n",
       "      <td>...</td>\n",
       "      <td>479.0</td>\n",
       "      <td>479.0</td>\n",
       "      <td>480.0</td>\n",
       "      <td>474.0</td>\n",
       "      <td>484.0</td>\n",
       "      <td>464.0</td>\n",
       "      <td>424.0</td>\n",
       "      <td>384.0</td>\n",
       "      <td>361.0</td>\n",
       "      <td>354.0</td>\n",
       "    </tr>\n",
       "    <tr>\n",
       "      <th>1967</th>\n",
       "      <td>B65L</td>\n",
       "      <td>4</td>\n",
       "      <td>4.0</td>\n",
       "      <td>4.0</td>\n",
       "      <td>4.0</td>\n",
       "      <td>4.0</td>\n",
       "      <td>4.0</td>\n",
       "      <td>3.0</td>\n",
       "      <td>2.0</td>\n",
       "      <td>0.0</td>\n",
       "      <td>...</td>\n",
       "      <td>0.0</td>\n",
       "      <td>0.0</td>\n",
       "      <td>0.0</td>\n",
       "      <td>0.0</td>\n",
       "      <td>0.0</td>\n",
       "      <td>0.0</td>\n",
       "      <td>0.0</td>\n",
       "      <td>0.0</td>\n",
       "      <td>0.0</td>\n",
       "      <td>0.0</td>\n",
       "    </tr>\n",
       "    <tr>\n",
       "      <th>1968</th>\n",
       "      <td>BE3</td>\n",
       "      <td>52</td>\n",
       "      <td>48.0</td>\n",
       "      <td>47.0</td>\n",
       "      <td>45.0</td>\n",
       "      <td>43.0</td>\n",
       "      <td>55.0</td>\n",
       "      <td>95.0</td>\n",
       "      <td>132.0</td>\n",
       "      <td>154.0</td>\n",
       "      <td>...</td>\n",
       "      <td>171.0</td>\n",
       "      <td>170.0</td>\n",
       "      <td>166.0</td>\n",
       "      <td>175.0</td>\n",
       "      <td>159.0</td>\n",
       "      <td>133.0</td>\n",
       "      <td>106.0</td>\n",
       "      <td>90.0</td>\n",
       "      <td>80.0</td>\n",
       "      <td>68.0</td>\n",
       "    </tr>\n",
       "    <tr>\n",
       "      <th>1969</th>\n",
       "      <td>BE3R</td>\n",
       "      <td>78</td>\n",
       "      <td>76.0</td>\n",
       "      <td>72.0</td>\n",
       "      <td>71.0</td>\n",
       "      <td>71.0</td>\n",
       "      <td>74.0</td>\n",
       "      <td>86.0</td>\n",
       "      <td>99.0</td>\n",
       "      <td>109.0</td>\n",
       "      <td>...</td>\n",
       "      <td>107.0</td>\n",
       "      <td>104.0</td>\n",
       "      <td>105.0</td>\n",
       "      <td>106.0</td>\n",
       "      <td>98.0</td>\n",
       "      <td>81.0</td>\n",
       "      <td>67.0</td>\n",
       "      <td>72.0</td>\n",
       "      <td>84.0</td>\n",
       "      <td>81.0</td>\n",
       "    </tr>\n",
       "    <tr>\n",
       "      <th>1970</th>\n",
       "      <td>B8B</td>\n",
       "      <td>124</td>\n",
       "      <td>119.0</td>\n",
       "      <td>117.0</td>\n",
       "      <td>118.0</td>\n",
       "      <td>119.0</td>\n",
       "      <td>118.0</td>\n",
       "      <td>126.0</td>\n",
       "      <td>145.0</td>\n",
       "      <td>159.0</td>\n",
       "      <td>...</td>\n",
       "      <td>167.0</td>\n",
       "      <td>160.0</td>\n",
       "      <td>159.0</td>\n",
       "      <td>160.0</td>\n",
       "      <td>150.0</td>\n",
       "      <td>150.0</td>\n",
       "      <td>132.0</td>\n",
       "      <td>135.0</td>\n",
       "      <td>137.0</td>\n",
       "      <td>137.0</td>\n",
       "    </tr>\n",
       "  </tbody>\n",
       "</table>\n",
       "<p>1971 rows × 691 columns</p>\n",
       "</div>\n",
       "      <button class=\"colab-df-convert\" onclick=\"convertToInteractive('df-5c2e48e5-6c5e-410f-9484-661242133656')\"\n",
       "              title=\"Convert this dataframe to an interactive table.\"\n",
       "              style=\"display:none;\">\n",
       "        \n",
       "  <svg xmlns=\"http://www.w3.org/2000/svg\" height=\"24px\"viewBox=\"0 0 24 24\"\n",
       "       width=\"24px\">\n",
       "    <path d=\"M0 0h24v24H0V0z\" fill=\"none\"/>\n",
       "    <path d=\"M18.56 5.44l.94 2.06.94-2.06 2.06-.94-2.06-.94-.94-2.06-.94 2.06-2.06.94zm-11 1L8.5 8.5l.94-2.06 2.06-.94-2.06-.94L8.5 2.5l-.94 2.06-2.06.94zm10 10l.94 2.06.94-2.06 2.06-.94-2.06-.94-.94-2.06-.94 2.06-2.06.94z\"/><path d=\"M17.41 7.96l-1.37-1.37c-.4-.4-.92-.59-1.43-.59-.52 0-1.04.2-1.43.59L10.3 9.45l-7.72 7.72c-.78.78-.78 2.05 0 2.83L4 21.41c.39.39.9.59 1.41.59.51 0 1.02-.2 1.41-.59l7.78-7.78 2.81-2.81c.8-.78.8-2.07 0-2.86zM5.41 20L4 18.59l7.72-7.72 1.47 1.35L5.41 20z\"/>\n",
       "  </svg>\n",
       "      </button>\n",
       "      \n",
       "  <style>\n",
       "    .colab-df-container {\n",
       "      display:flex;\n",
       "      flex-wrap:wrap;\n",
       "      gap: 12px;\n",
       "    }\n",
       "\n",
       "    .colab-df-convert {\n",
       "      background-color: #E8F0FE;\n",
       "      border: none;\n",
       "      border-radius: 50%;\n",
       "      cursor: pointer;\n",
       "      display: none;\n",
       "      fill: #1967D2;\n",
       "      height: 32px;\n",
       "      padding: 0 0 0 0;\n",
       "      width: 32px;\n",
       "    }\n",
       "\n",
       "    .colab-df-convert:hover {\n",
       "      background-color: #E2EBFA;\n",
       "      box-shadow: 0px 1px 2px rgba(60, 64, 67, 0.3), 0px 1px 3px 1px rgba(60, 64, 67, 0.15);\n",
       "      fill: #174EA6;\n",
       "    }\n",
       "\n",
       "    [theme=dark] .colab-df-convert {\n",
       "      background-color: #3B4455;\n",
       "      fill: #D2E3FC;\n",
       "    }\n",
       "\n",
       "    [theme=dark] .colab-df-convert:hover {\n",
       "      background-color: #434B5C;\n",
       "      box-shadow: 0px 1px 3px 1px rgba(0, 0, 0, 0.15);\n",
       "      filter: drop-shadow(0px 1px 2px rgba(0, 0, 0, 0.3));\n",
       "      fill: #FFFFFF;\n",
       "    }\n",
       "  </style>\n",
       "\n",
       "      <script>\n",
       "        const buttonEl =\n",
       "          document.querySelector('#df-5c2e48e5-6c5e-410f-9484-661242133656 button.colab-df-convert');\n",
       "        buttonEl.style.display =\n",
       "          google.colab.kernel.accessAllowed ? 'block' : 'none';\n",
       "\n",
       "        async function convertToInteractive(key) {\n",
       "          const element = document.querySelector('#df-5c2e48e5-6c5e-410f-9484-661242133656');\n",
       "          const dataTable =\n",
       "            await google.colab.kernel.invokeFunction('convertToInteractive',\n",
       "                                                     [key], {});\n",
       "          if (!dataTable) return;\n",
       "\n",
       "          const docLinkHtml = 'Like what you see? Visit the ' +\n",
       "            '<a target=\"_blank\" href=https://colab.research.google.com/notebooks/data_table.ipynb>data table notebook</a>'\n",
       "            + ' to learn more about interactive tables.';\n",
       "          element.innerHTML = '';\n",
       "          dataTable['output_type'] = 'display_data';\n",
       "          await google.colab.output.renderOutput(dataTable, element);\n",
       "          const docLink = document.createElement('div');\n",
       "          docLink.innerHTML = docLinkHtml;\n",
       "          element.appendChild(docLink);\n",
       "        }\n",
       "      </script>\n",
       "    </div>\n",
       "  </div>\n",
       "  "
      ],
      "text/plain": [
       "     carpark_number  1-1    2-1    3-1    4-1    5-1    6-1    7-1    8-1  \\\n",
       "0              HE12   53   59.0   56.0   48.0   35.0   22.0    7.0    0.0   \n",
       "1               HLM  480  479.0  478.0  478.0  474.0  470.0  459.0  375.0   \n",
       "2               RHM  122  122.0  118.0  116.0  113.0  111.0  120.0  123.0   \n",
       "3              BM29   81   82.0   83.0   83.0   83.0   83.0   78.0   36.0   \n",
       "4               Q81   79   80.0   79.0   79.0   79.0   75.0   53.0    7.0   \n",
       "...             ...  ...    ...    ...    ...    ...    ...    ...    ...   \n",
       "1966           B65M  320  318.0  312.0  306.0  305.0  303.0  334.0  370.0   \n",
       "1967           B65L    4    4.0    4.0    4.0    4.0    4.0    3.0    2.0   \n",
       "1968            BE3   52   48.0   47.0   45.0   43.0   55.0   95.0  132.0   \n",
       "1969           BE3R   78   76.0   72.0   71.0   71.0   74.0   86.0   99.0   \n",
       "1970            B8B  124  119.0  117.0  118.0  119.0  118.0  126.0  145.0   \n",
       "\n",
       "        9-1  ...  14-30  15-30  16-30  17-30  18-30  19-30  20-30  21-30  \\\n",
       "0       0.0  ...    0.0    0.0    0.0    0.0    0.0    0.0    0.0    0.0   \n",
       "1     276.0  ...   46.0   93.0  123.0  174.0  221.0  227.0  242.0  295.0   \n",
       "2     166.0  ...  118.0  152.0  195.0  200.0  200.0  165.0  133.0  133.0   \n",
       "3      20.0  ...    0.0    0.0    0.0   11.0   23.0   23.0   13.0   22.0   \n",
       "4      13.0  ...    6.0   30.0   34.0   31.0   24.0   27.0   20.0   46.0   \n",
       "...     ...  ...    ...    ...    ...    ...    ...    ...    ...    ...   \n",
       "1966  430.0  ...  479.0  479.0  480.0  474.0  484.0  464.0  424.0  384.0   \n",
       "1967    0.0  ...    0.0    0.0    0.0    0.0    0.0    0.0    0.0    0.0   \n",
       "1968  154.0  ...  171.0  170.0  166.0  175.0  159.0  133.0  106.0   90.0   \n",
       "1969  109.0  ...  107.0  104.0  105.0  106.0   98.0   81.0   67.0   72.0   \n",
       "1970  159.0  ...  167.0  160.0  159.0  160.0  150.0  150.0  132.0  135.0   \n",
       "\n",
       "      22-30  23-30  \n",
       "0       0.0    0.0  \n",
       "1     376.0  442.0  \n",
       "2     137.0  137.0  \n",
       "3      25.0   62.0  \n",
       "4      59.0   70.0  \n",
       "...     ...    ...  \n",
       "1966  361.0  354.0  \n",
       "1967    0.0    0.0  \n",
       "1968   80.0   68.0  \n",
       "1969   84.0   81.0  \n",
       "1970  137.0  137.0  \n",
       "\n",
       "[1971 rows x 691 columns]"
      ]
     },
     "execution_count": 4,
     "metadata": {},
     "output_type": "execute_result"
    }
   ],
   "source": [
    "sep_df = pd.read_json(\"hourly.json\", lines=True)\n",
    "sep_df"
   ]
  },
  {
   "cell_type": "markdown",
   "metadata": {
    "id": "LO89pbHXRpVW"
   },
   "source": [
    "Now, we plot the time series graph for the month of September 2022."
   ]
  },
  {
   "cell_type": "code",
   "execution_count": null,
   "metadata": {
    "colab": {
     "base_uri": "https://localhost:8080/",
     "height": 204
    },
    "id": "apaECvvJREZ-",
    "outputId": "fd034fc6-d5b4-437b-e6b8-507c4e3f2e6c"
   },
   "outputs": [
    {
     "data": {
      "image/png": "[encoded data removed]",
      "text/plain": [
       "<Figure size 2880x576 with 1 Axes>"
      ]
     },
     "metadata": {
      "needs_background": "light"
     },
     "output_type": "display_data"
    }
   ],
   "source": [
    "import matplotlib.pyplot as plt\n",
    "\n",
    "# Gets the data. \n",
    "# x-axis is the time intervals, \n",
    "# y-axis is the aggregated sum of all the availability for all carparks of a specific hour.\n",
    "results = []\n",
    "for col in sep_df.columns[1:]:\n",
    "    results.append(sep_df[col].sum())\n",
    "y = results\n",
    "x = sep_df.columns[1:].tolist()\n",
    "\n",
    "# Plotting the graph\n",
    "plt.figure(figsize=(40,8))\n",
    "plt.scatter(x,y)\n",
    "plt.title(\"Hourly time series for September 2022\", fontdict = {'fontsize' : 40})\n",
    "plt.xlabel(\"Hour-Day\",fontsize=40)\n",
    "plt.ylabel(\"Aggregated availability\",fontsize=30)\n",
    "plt.xticks(x[::23],fontsize=20) #sets interval to daily, and increase fontsize for visibility\n",
    "plt.yticks(fontsize=30)\n",
    "plt.show()"
   ]
  },
  {
   "cell_type": "markdown",
   "metadata": {
    "id": "3uCBv5jdSzCm"
   },
   "source": [
    "The data follows a similar trend as shown.\n",
    "\n",
    "For the month of september, it can be seen that the during the morning hours theres are high availabilities of parking spot in the city, This is likely due to the fact that majority of the people in the city are going for work, which means most of the vehicles in the city are in transit, instead of being parked at a particular car spot. The trend that can in the month of september is that the carpark reaches a low after 5 to 6 hours."
   ]
  },
  {
   "cell_type": "code",
   "execution_count": null,
   "metadata": {
    "colab": {
     "base_uri": "https://localhost:8080/",
     "height": 204
    },
    "id": "1aQaTR0IVEUO",
    "outputId": "93031f89-f471-4427-db41-ad8fa0edc88a"
   },
   "outputs": [
    {
     "data": {
      "image/png": "[encoded data removed]",
      "text/plain": [
       "<Figure size 2880x576 with 1 Axes>"
      ]
     },
     "metadata": {
      "needs_background": "light"
     },
     "output_type": "display_data"
    }
   ],
   "source": [
    "plt.figure(figsize=(40,8))\n",
    "plt.scatter(x[:23],y[:23])\n",
    "plt.title(\"Hourly time series for 1st September 2022\", fontdict = {'fontsize' : 40})\n",
    "plt.xlabel(\"Hour-Day\",fontsize=40)\n",
    "plt.ylabel(\"Aggregated availability\",fontsize=30)\n",
    "plt.xticks(fontsize=20) #sets interval to daily, and increase fontsize for visibility\n",
    "plt.yticks(fontsize=30)\n",
    "plt.show()"
   ]
  },
  {
   "cell_type": "markdown",
   "metadata": {
    "id": "loueXw9fJPVl"
   },
   "source": [
    "It can observed from the above visulaisation for the 1st of September that the carpark availability increases steadly from 0600 hrs to 0700 hrs and the carpark availability remains at a high all the way upto 1800 hrs in the evening. This indicates that majority of the vehicles are in transit in the city of for a significantly long amount of time during the day."
   ]
  },
  {
   "cell_type": "markdown",
   "metadata": {
    "id": "xxB8uMC5AJ09"
   },
   "source": [
    "<a name=\"1.5\"></a>\n",
    "**1.5 Intuitively, we expect that carpark availability across certain carparks to be correlated.** \n",
    "\n",
    "**For example, many housing carparks would experience higher carpark availability during working hours. Using the same interval chosen in 1.4, write a function to find the top five carparks with which it shows the highest correlation.** \n",
    "\n",
    "**Demonstrate an example of this function call using a randomly selected carpark.** "
   ]
  },
  {
   "cell_type": "markdown",
   "metadata": {
    "id": "rVPaJsJWWVF3"
   },
   "source": [
    "We treat the carpark availability of a single carpark as a random variable and calculate the statistical correlation between the carparks.\n",
    "\n",
    "The timings where there are no data available from the API are ignored, as mention in the previous section.\n",
    "\n",
    "As the question asked for the highest correlation, we included the top 5 carparks with the highest correlation, regardless if they are positively or negatively correlated.\n",
    "\n",
    "More explanation is provided in the code below."
   ]
  },
  {
   "cell_type": "code",
   "execution_count": null,
   "metadata": {
    "colab": {
     "base_uri": "https://localhost:8080/"
    },
    "id": "s9g3x4suWpnF",
    "outputId": "624ecf2c-fc10-4f8b-a865-8fea2f1c2152"
   },
   "outputs": [
    {
     "name": "stdout",
     "output_type": "stream",
     "text": [
      "The top five carparks correlated to PDT8 are HG9, KB14, MP19, C29, PDL2.\n"
     ]
    }
   ],
   "source": [
    "from math import isnan\n",
    "import numpy as np\n",
    "\n",
    "def top5_correlation(carpark):\n",
    "    results = {}\n",
    "    #gets index of specified carpark\n",
    "    idx = sep_df.index[sep_df['carpark_number'] == carpark].tolist()[0]\n",
    "    \n",
    "    #calculate corr of that row against other carparks, \n",
    "    #stores it in results dictionary {'carpark_name':corr_value}\n",
    "    for index, row in sep_df.iterrows():\n",
    "        if idx != index:\n",
    "            corr = abs(np.corrcoef(list(sep_df.iloc[idx][1:]), list(sep_df.iloc[index][1:]))[0, 1])\n",
    "            results[sep_df.iloc[index]['carpark_number'] ] = corr\n",
    "            \n",
    "    # removes nan values\n",
    "    results = {k: results[k] for k in results if not isnan(results[k])} \n",
    "    # gets top 5 highest\n",
    "    my_keys = sorted(results, key=results.get, reverse=True)[:5] \n",
    "    # converts list to string\n",
    "    my_keys = \", \".join(str(x) for x in my_keys)\n",
    "    print(\"The top five carparks correlated to\", carpark, \"are\", my_keys + '.')\n",
    "\n",
    "top5_correlation('PDT8')"
   ]
  },
  {
   "cell_type": "markdown",
   "metadata": {
    "id": "qm-NdhWHItjn"
   },
   "source": [
    "<a name=\"1.6\"></a>\n",
    "**1.6 Group Project Proposal for Question 3: Please include a short proposal (around 500 words) of what your team intends to do for the Group Proposed Project in Question 3.** \n",
    "\n",
    "**For the group project proposal, you may use additional datasets to supplement your analysis or look at unaggregated data, etc. See Question 3 below for more information about this. Please use markdown in the iPython notebook to present your proposal.**\n",
    "\n",
    "#Private and Public Transport Suggestion System\n",
    "\n",
    "* ## <u>Problem Statement</u>\n",
    "During our days of work people usually spend alot time trying to find a good parking spot so that they can get to work on time. This situation can become even more problematic if the car park present in your workplace is completely occupied and therefore a lot of time is spent trying to find the closest car park to your office.\n",
    "\n",
    "* ## <u>Proposed Solution </u>\n",
    "Since this is a problem that a lot of individuals face on a day to day basis, we decided to make use of the LTA carpark dataset provided to us to give them a heads up in advance if there will be availability of parking spaces by the time they reach their destination. We also plan on making use of the dataset to provide the rate at which car park spaces are getting occupied, so that the individual can decide if they want to park in that particular parking area or choose a different location.</br>\n",
    "If the occupancy rate of a car park area is high, we plan on implementing a model which makes use of the LTA carpark dataset along with information on the amount of time it takes to reach your destination, so as to determine which mode of transport should be taken, that is either public transport or private transport.\n",
    "\n",
    "* ## <u>Additional Features and Additional Datasets</u>\n",
    "If the time permits we would also like to implement a feature where our model is capable of recommending car park locations nearby an individual destination so as to provide alternatives to the user. We plan on making observing the following dataset if the time to try and implement this feature:\n",
    "<table>\n",
    "<tr>\n",
    "<th>Serial No.</th>\n",
    "<th>Dataset</th>\n",
    "</tr>\n",
    "<tr>\n",
    "<td>1</td>\n",
    "<td>Number of HDB blocks of different areas in Singapore</td>\n",
    "</tr>\n",
    "<tr>\n",
    "<td>2</td>\n",
    "<td>Number of offices of different areas</td>\n",
    "</tr>\n",
    "<tr>\n",
    "<td>3</td>\n",
    "<td>Number of shopping malls of different areas</td>\n",
    "</tr>\n",
    "</table>\n",
    "\n",
    "* ## <u>Machine Learning Model Structure and Technology Stack</u>\n",
    "If the time permits we would also like to implement a feature where our model is capable of recommending car park locations nearby an individual destination so as to provide alternatives to the user. We plan on making observing the following dataset if the time to try and implement this feature:\n",
    "<table>\n",
    "<tr>\n",
    "<th>Serial No.</th>\n",
    "<th>Input</th>\n",
    "</tr>\n",
    "<tr>\n",
    "<td>1</td>\n",
    "<td>Current Location</td>\n",
    "</tr>\n",
    "<tr>\n",
    "<td>2</td>\n",
    "<td>Destination Location</td>\n",
    "</tr>\n",
    "<tr>\n",
    "<td>3</td>\n",
    "<td>Day of the Week</td>\n",
    "</tr>\n",
    "<tr>\n",
    "<td>4</td>\n",
    "<td>Current Time</td>\n",
    "</tr>\n",
    "</table>\n",
    "1. Output for model-1 is a continuous value since we will be providing the rate at which the carpark slots are getting filled up at a particular location.\n",
    "2.  Output for model-2 is a categorical value since we are trying to provide the user the best transport option to take. Output classes of the model-2 is as follows:\n",
    "<table>\n",
    "<tr>\n",
    "<th>Serial No.</th>\n",
    "<th>Class</th>\n",
    "</tr>\n",
    "<tr>\n",
    "<td>1</td>\n",
    "<td>Public Transport</td>\n",
    "</tr>\n",
    "<tr>\n",
    "<td>2</td>\n",
    "<td>Private Transport</td>\n",
    "</tr>\n",
    "</table>\n",
    "The technology stack that will be used for the project:\n",
    "<table>\n",
    "<tr>\n",
    "<th>Serial No.</th>\n",
    "<th>Library/API</th>\n",
    "<th>Details</th>\n",
    "</tr>\n",
    "<tr>\n",
    "<td>1</td>\n",
    "<td>Numpy and Pandas </td>\n",
    "<td>Data Preprocessing</td>\n",
    "</tr>\n",
    "<tr>\n",
    "<td>2</td>\n",
    "<td>Sklearn</td>\n",
    "<td>Models to predict the classification</td>\n",
    "</tr>\n",
    "<tr>\n",
    "<td>3</td>\n",
    "<td>Matplotlib and Seaborn</td>\n",
    "<td>Visualization for studying the trends in data</td>\n",
    "</tr>\n",
    "<tr>\n",
    "<td>4</td>\n",
    "<td>Distance Matrix API</td>\n",
    "<td>Google Maps API for calculating the distance of the user’s current location and the destination location</td>\n",
    "</tr>\n",
    "</table>\n",
    "\n",
    "* ## <u>Limitations of Our Current Implementation</u>\n",
    "<table>\n",
    "<tr>\n",
    "<th>Serial No.</th>\n",
    "<th>Class</th>\n",
    "</tr>\n",
    "<tr>\n",
    "<td>1</td>\n",
    "<td>Public Transport</td>\n",
    "</tr>\n",
    "<tr>\n",
    "<td>2</td>\n",
    "<td>Private Transport</td>\n",
    "</tr>\n",
    "</table>\n",
    "The technology stack that will be used for the project:\n",
    "<table>\n",
    "<tr>\n",
    "<th>Serial No.</th>\n",
    "<th>Limitation</th>\n",
    "</tr>\n",
    "<tr>\n",
    "<td>1</td>\n",
    "<td>Making use of two models for the project, which can increase the complexity in the way we handle the data</td>\n",
    "</tr>\n",
    "<tr>\n",
    "<td>2</td>\n",
    "<td>The model that makes use of the public transport dataset, will have to figure out which is the best mode of public transport (bus or train) and compare it against the the result from the carpark dataset model.</td>\n",
    "</tr>\n",
    "<tr>\n",
    "<td>3</td>\n",
    "<td>Currently none of us have made use of the distance matrix API, so we are unsure of the challenges while dealing with API.</td>\n",
    "</tr>\n",
    "<tr>\n",
    "</table>"
   ]
  }
 ],
 "metadata": {
  "colab": {
   "collapsed_sections": [],
   "history_visible": true,
   "provenance": []
  },
  "kernelspec": {
   "display_name": "Python 3 (ipykernel)",
   "language": "python",
   "name": "python3"
  },
  "language_info": {
   "codemirror_mode": {
    "name": "ipython",
    "version": 3
   },
   "file_extension": ".py",
   "mimetype": "text/x-python",
   "name": "python",
   "nbconvert_exporter": "python",
   "pygments_lexer": "ipython3",
   "version": "3.8.17"
  }
 },
 "nbformat": 4,
 "nbformat_minor": 4
}
